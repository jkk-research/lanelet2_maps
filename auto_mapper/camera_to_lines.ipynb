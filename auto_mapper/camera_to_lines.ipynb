{
 "cells": [
  {
   "cell_type": "code",
   "execution_count": 88,
   "metadata": {},
   "outputs": [],
   "source": [
    "import pandas as pd\n",
    "import numpy as np\n",
    "import mat4py\n",
    "from scipy.io import loadmat\n",
    "import utm"
   ]
  },
  {
   "cell_type": "code",
   "execution_count": 20,
   "metadata": {},
   "outputs": [],
   "source": [
    "camera_measurements = loadmat('MEAS_10_48_23_laneId_1.mat')"
   ]
  },
  {
   "cell_type": "code",
   "execution_count": 38,
   "metadata": {},
   "outputs": [
    {
     "data": {
      "text/plain": [
       "{'q_KEY': array(['ADMA_INS_Lat_Abs_POI1 ADMA_INS_Long_Abs_POI1 ADMA_Status_GNSS_Mode BV_Linie_01_dy BV_Linie_02_dy BV_Linie_01_Existenzmass BV_Linie_02_Existenzmass ADMA_INS_Vel_Frame_X'],\n",
       "       dtype='<U167'),\n",
       " 'q_UNIT': array(['deg deg  Unit_Meter Unit_Meter Unit_Meter Unit_Meter m/s'],\n",
       "       dtype='<U56'),\n",
       " 'q_SCMIN': array([[  13.7675 ,    6.60588,  -32.     ,  -15.1078 ,  -12.2344 ,\n",
       "           -2.16563,   -1.08281, -163.84   ]]),\n",
       " 'q_SCMAX': array([[  51.6062 ,   20.24   ,   22.4    ,   15.1078 ,   12.2344 ,\n",
       "            6.49688,    7.57969, 2588.63   ]]),\n",
       " 'q_TC': array([[0.]]),\n",
       " 'q_T0': array([[2.4370000e-03, 2.6900000e-03, 2.9280000e-03, ..., 4.6655028e+01,\n",
       "         4.6655277e+01, 4.6655527e+01]]),\n",
       " 'ADMA_INS_Lat_Abs_POI1': array([[46.8914796, 46.8914796, 46.8914796, ..., 46.897053 , 46.897053 ,\n",
       "         46.897053 ]]),\n",
       " 'ADMA_INS_Long_Abs_POI1': array([[16.8395489, 16.8395489, 16.8395489, ..., 16.8430167, 16.8430167,\n",
       "         16.8430167]]),\n",
       " 'ADMA_Status_GNSS_Mode': array([[8., 8., 8., ..., 8., 8., 8.]]),\n",
       " 'BV_Linie_01_dy': array([[0.        , 0.        , 0.        , ..., 1.48828125, 1.48828125,\n",
       "         1.48828125]]),\n",
       " 'BV_Linie_02_dy': array([[ 0.        ,  0.        ,  0.        , ..., -2.62890625,\n",
       "         -2.62890625, -2.62890625]]),\n",
       " 'BV_Linie_01_Existenzmass': array([[0.   , 0.   , 0.   , ..., 0.875, 0.875, 0.875]]),\n",
       " 'BV_Linie_02_Existenzmass': array([[0.    , 0.    , 0.    , ..., 0.9375, 0.9375, 0.9375]]),\n",
       " 'ADMA_INS_Vel_Frame_X': array([[ 2.7  ,  2.7  ,  2.7  , ..., -0.655, -0.655, -0.655]])}"
      ]
     },
     "execution_count": 38,
     "metadata": {},
     "output_type": "execute_result"
    }
   ],
   "source": [
    "camera_measurements"
   ]
  },
  {
   "cell_type": "code",
   "execution_count": 43,
   "metadata": {},
   "outputs": [],
   "source": [
    "# remove nan values and 0 values\n",
    "left_lane = camera_measurements['BV_Linie_01_dy'][0][:]\n",
    "right_lane = camera_measurements['BV_Linie_02_dy'][0][:]"
   ]
  },
  {
   "cell_type": "code",
   "execution_count": 40,
   "metadata": {},
   "outputs": [],
   "source": [
    "lon = camera_measurements['ADMA_INS_Long_Abs_POI1'][0][:]\n",
    "lan = camera_measurements['ADMA_INS_Lat_Abs_POI1'][0][:]"
   ]
  },
  {
   "cell_type": "code",
   "execution_count": 89,
   "metadata": {},
   "outputs": [],
   "source": [
    "# consturct a lanelet from measurements\n",
    "\n",
    "lanelet = pd.DataFrame({'left_lane': left_lane, 'right_lane': right_lane, 'lon': lon, 'lan': lan})\n",
    "lanelet = lanelet.dropna()\n",
    "lanelet = lanelet[lanelet['left_lane'] != 0]\n",
    "lanelet = lanelet[lanelet['right_lane'] != 0]\n",
    "\n",
    "\n",
    "lanelet['utm'] = lanelet.apply(lambda x: utm.from_latlon(x['lan'], x['lon']), axis=1)\n",
    "\n",
    "# add utm coordinates to the left and right lane \n",
    "lanelet['utm_left'] = lanelet['utm'].apply(lambda x: x[:2])\n",
    "lanelet['utm_right'] = lanelet['utm'].apply(lambda x: x[:2])"
   ]
  }
 ],
 "metadata": {
  "kernelspec": {
   "display_name": "usr",
   "language": "python",
   "name": "python3"
  },
  "language_info": {
   "codemirror_mode": {
    "name": "ipython",
    "version": 3
   },
   "file_extension": ".py",
   "mimetype": "text/x-python",
   "name": "python",
   "nbconvert_exporter": "python",
   "pygments_lexer": "ipython3",
   "version": "3.10.12"
  }
 },
 "nbformat": 4,
 "nbformat_minor": 2
}
